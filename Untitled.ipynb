{
 "cells": [
  {
   "cell_type": "code",
   "execution_count": 6,
   "metadata": {},
   "outputs": [
    {
     "name": "stdout",
     "output_type": "stream",
     "text": [
      "DOG\n"
     ]
    }
   ],
   "source": [
    "def dog():\n",
    "    print(\"DOG\")\n",
    "dog()"
   ]
  },
  {
   "cell_type": "code",
   "execution_count": 27,
   "metadata": {},
   "outputs": [
    {
     "name": "stdout",
     "output_type": "stream",
     "text": [
      "Enter 1st number\n",
      "-2\n",
      "Enter 2nd number\n",
      "-2\n",
      "4\n"
     ]
    }
   ],
   "source": [
    "a = int(input(\"Enter 1st number\\n\"))\n",
    "b = int(input(\"Enter 2nd number\\n\"))\n",
    "mul = a*b\n",
    "print(mul)"
   ]
  },
  {
   "cell_type": "code",
   "execution_count": 31,
   "metadata": {},
   "outputs": [
    {
     "name": "stdout",
     "output_type": "stream",
     "text": [
      "[[10, 20], [30, 40], [50, 60]]\n"
     ]
    }
   ],
   "source": [
    "#ques2\n",
    "list=[[1,2],[3,4],[5,6]]\n",
    "x=[]\n",
    "y=[]\n",
    "z=[]\n",
    "for i in list:\n",
    "    for j in i:\n",
    "        num=j*10\n",
    "        x.append(num)\n",
    "y=[x[0:2] ,x[2:4], x[4:6]]\n",
    "print(y)"
   ]
  },
  {
   "cell_type": "code",
   "execution_count": 36,
   "metadata": {},
   "outputs": [
    {
     "ename": "SyntaxError",
     "evalue": "invalid syntax (<ipython-input-36-bd00fbe2542d>, line 3)",
     "output_type": "error",
     "traceback": [
      "\u001b[1;36m  File \u001b[1;32m\"<ipython-input-36-bd00fbe2542d>\"\u001b[1;36m, line \u001b[1;32m3\u001b[0m\n\u001b[1;33m    for key, value in sorted(i.iteritems(),key=lambda (k,v):(v,k)):\u001b[0m\n\u001b[1;37m                                                      ^\u001b[0m\n\u001b[1;31mSyntaxError\u001b[0m\u001b[1;31m:\u001b[0m invalid syntax\n"
     ]
    }
   ],
   "source": [
    "#question5\n",
    "i={'a':1,'b':14,'c':10,'d':9,'e':12,'f':30}\n",
    "for key, value in sorted(i.iteritems(),key=lambda (k,v):(v,k)):\n",
    "    print (\"%s:%s\" %(key,value))"
   ]
  },
  {
   "cell_type": "code",
   "execution_count": 58,
   "metadata": {},
   "outputs": [
    {
     "ename": "SyntaxError",
     "evalue": "invalid syntax (<ipython-input-58-c188fbdc6f00>, line 3)",
     "output_type": "error",
     "traceback": [
      "\u001b[1;36m  File \u001b[1;32m\"<ipython-input-58-c188fbdc6f00>\"\u001b[1;36m, line \u001b[1;32m3\u001b[0m\n\u001b[1;33m    del.items(c)\u001b[0m\n\u001b[1;37m       ^\u001b[0m\n\u001b[1;31mSyntaxError\u001b[0m\u001b[1;31m:\u001b[0m invalid syntax\n"
     ]
    }
   ],
   "source": [
    "#question 4\n",
    "input={'a':1,'b':13,'c':10,'d':9,'e':12,'f':30}\n",
    "del.items(c)"
   ]
  },
  {
   "cell_type": "code",
   "execution_count": 55,
   "metadata": {},
   "outputs": [
    {
     "name": "stdout",
     "output_type": "stream",
     "text": [
      "20\n"
     ]
    }
   ],
   "source": [
    "#question no 3\n",
    "input=1,3,2,4,10\n",
    "total = 0\n",
    "for i in input:\n",
    "    total += int(i)\n",
    "print (total)\n"
   ]
  },
  {
   "cell_type": "code",
   "execution_count": 48,
   "metadata": {},
   "outputs": [
    {
     "name": "stdout",
     "output_type": "stream",
     "text": [
      "{'a': 1, 'b': 13, 'c': 10, 'd': 9, 'e': 12, 'f': 30}\n"
     ]
    }
   ],
   "source": []
  },
  {
   "cell_type": "code",
   "execution_count": null,
   "metadata": {
    "collapsed": true
   },
   "outputs": [],
   "source": []
  }
 ],
 "metadata": {
  "kernelspec": {
   "display_name": "Python 3",
   "language": "python",
   "name": "python3"
  },
  "language_info": {
   "codemirror_mode": {
    "name": "ipython",
    "version": 3
   },
   "file_extension": ".py",
   "mimetype": "text/x-python",
   "name": "python",
   "nbconvert_exporter": "python",
   "pygments_lexer": "ipython3",
   "version": "3.6.3"
  }
 },
 "nbformat": 4,
 "nbformat_minor": 2
}
